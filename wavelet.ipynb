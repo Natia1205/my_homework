{
  "nbformat": 4,
  "nbformat_minor": 0,
  "metadata": {
    "colab": {
      "provenance": [],
      "authorship_tag": "ABX9TyOFD5QGYb5g+0B28Dsqwgan",
      "include_colab_link": true
    },
    "kernelspec": {
      "name": "python3",
      "display_name": "Python 3"
    },
    "language_info": {
      "name": "python"
    }
  },
  "cells": [
    {
      "cell_type": "markdown",
      "metadata": {
        "id": "view-in-github",
        "colab_type": "text"
      },
      "source": [
        "<a href=\"https://colab.research.google.com/github/Natia1205/my_homework/blob/master/wavelet.ipynb\" target=\"_parent\"><img src=\"https://colab.research.google.com/assets/colab-badge.svg\" alt=\"Open In Colab\"/></a>"
      ]
    },
    {
      "cell_type": "code",
      "execution_count": null,
      "metadata": {
        "id": "daHWfjxUW-pv"
      },
      "outputs": [],
      "source": [
        "import numpy as np\n",
        "import pandas as pd\n",
        "import matplotlib.pyplot as plt\n",
        "from ssqueezepy import ssq_cwt, ssq_stft\n",
        "import pywt\n",
        "from scipy.signal import find_peaks\n",
        "\n",
        "\n",
        "# Read data\n",
        "df = pd.read_excel('Kanzelhöhe and Skalnate-Pleso.xlsx')\n",
        "\n",
        "# Extract time and sunspot number data\n",
        "time = df['year']\n",
        "n = df['north']\n",
        "start_index = 21674\n",
        "end_index = 25505\n",
        "time_short = time[start_index:end_index]\n",
        "n_short = n[start_index:end_index]\n",
        "# Define scales\n",
        "scales = np.arange(256.0, 800.0)\n",
        "\n",
        "Tx_n, Wx_n, freqs_n, scales_n = ssq_cwt(n_short, scales=scales, wavelet='morlet')\n",
        "#Tx იგი წარმოადგენს სიგნალის ენერგიის განაწილებას დრო-სიხშირის დომენში.\n",
        "# Ws The wavelet transform coefficients of the input signal. ის ასახავს, თუ როგორ უკავშირდება სიგნალი სხვადასხვა ტალღის ფუნქციებს სხვადასხვა მასშტაბებსა და პოზიციებზე.\n",
        "# freqs  The frequencies corresponding to the wavelet scales used in the transform. ვეივლეტის არჩევით და სკალარით განისაზღვრება.\n",
        "# scalesეს მასშტაბები განსაზღვრავს საანალიზო ტალღის ზომას და აკონტროლებს დეტალების დონეს სიგნალის დრო-სიხშირის წარმოდგენისას.\n",
        "#print(np.argmax(Wx_n))\n",
        "#print(1/freqs_n)\n",
        "fig, ax1 = plt.subplots(1, 1, sharex=True, figsize=(10, 8))\n",
        "time_short_min = np.min(time_short)\n",
        "time_short_max = np.max(time_short)\n",
        "freqs_n_min = np.min(freqs_n)\n",
        "freqs_n_max = np.max(freqs_n)\n",
        "\n",
        "extent = (time_short_min, time_short_max, 1 / freqs_n_min, 1 / freqs_n_max)\n",
        "im = ax1.imshow(np.abs(Wx_n), aspect='auto', cmap='jet', extent=extent, interpolation='gaussian')\n",
        "ax1.set_title('SOLAR CYCLE 23/NORTH')\n",
        "#print(len(Wx_n))\n",
        "\n",
        "#იმისთვის რომ გავიგო პერიოდები ვეივლეტის დახმარებით, საჭიროა ჯერ ვიპოვო სად არის მაქსიმალური სიხშირე, მოვძებნო მნიშვნელობების სიდიდეები\n",
        "# და შემდეგ მოვძებნო ამ მნიშვნელობის შესაბამისი სიხშირეები ინდექსების მიხედვით\n",
        "max=[]\n",
        "period=[]\n",
        "def max_val():\n",
        "    for i in Wx_n:\n",
        "      data_array = np.array(i)\n",
        "      max_value = np.max(data_array)\n",
        "    #max.append(max_value)\n",
        "    #print(len(max))\n",
        "\n",
        "\n",
        "      max_ind= np.argmax( np.abs(i))\n",
        "      index=int(max_ind//8)\n",
        "\n",
        "\n",
        "    #print((max_ind//7.5))\n",
        "    #print(max_ind)\n",
        "#max_index = np.argmax(np.abs(Wx_n), axis=0)\n",
        "#print((Wx_n))\n",
        "\n",
        "# Find the period corresponding to the maximum value\n",
        "      periods = 1 / freqs_n[index]\n",
        "\n",
        "      (period.append(periods))\n",
        "    #print(f\"Index of the maximum value: {index}\")\n",
        "    return  print(f\"Period: {np.round(period)}\")\n",
        "max_val()\n",
        "\n",
        "plt.xlabel('Time')\n",
        "plt.ylabel('Period')\n",
        "plt.tight_layout()\n",
        "plt.show()"
      ]
    },
    {
      "cell_type": "code",
      "source": [],
      "metadata": {
        "id": "3PYmZzp-DEXK"
      },
      "execution_count": null,
      "outputs": []
    },
    {
      "cell_type": "code",
      "source": [
        "max_values = []\n",
        "max_values_indices = []\n",
        "def max_val():\n",
        "    for i in range(len(Wx_n[0])):\n",
        "        for idx, val in enumerate(Wx_n[:, i]):\n",
        "\n",
        "          if 12 < np.abs(val) :\n",
        "                max_values.append(np.abs(val))\n",
        "                max_values_indices.append(idx)\n",
        "                print(f\"inds:{idx}\")\n",
        "                periods = 1 / freqs_n\n",
        "\n",
        "                period.append(periods[max_values_indices])\n",
        "                return print(period)\n",
        "                  # If any value in the column satisfies the condition, break the loop\n",
        "\n",
        "max_val()\n",
        "\n"
      ],
      "metadata": {
        "id": "YWCYB-0EpJH-"
      },
      "execution_count": null,
      "outputs": []
    },
    {
      "cell_type": "code",
      "source": [
        "!pip install pandas matplotlib ssqueezepy pywavelets\n",
        "!pip install numpy\n",
        "!pip install ssqueezepy"
      ],
      "metadata": {
        "colab": {
          "base_uri": "https://localhost:8080/"
        },
        "id": "KMVWwxtSXF8Q",
        "outputId": "3f4934d4-2bfa-4348-8779-a73d3887bc77"
      },
      "execution_count": null,
      "outputs": [
        {
          "output_type": "stream",
          "name": "stdout",
          "text": [
            "Requirement already satisfied: pandas in /usr/local/lib/python3.10/dist-packages (2.0.3)\n",
            "Requirement already satisfied: matplotlib in /usr/local/lib/python3.10/dist-packages (3.7.1)\n",
            "Collecting ssqueezepy\n",
            "  Downloading ssqueezepy-0.6.5-py3-none-any.whl (127 kB)\n",
            "\u001b[2K     \u001b[90m━━━━━━━━━━━━━━━━━━━━━━━━━━━━━━━━━━━━━━━━\u001b[0m \u001b[32m127.2/127.2 kB\u001b[0m \u001b[31m893.5 kB/s\u001b[0m eta \u001b[36m0:00:00\u001b[0m\n",
            "\u001b[?25hRequirement already satisfied: pywavelets in /usr/local/lib/python3.10/dist-packages (1.6.0)\n",
            "Requirement already satisfied: python-dateutil>=2.8.2 in /usr/local/lib/python3.10/dist-packages (from pandas) (2.8.2)\n",
            "Requirement already satisfied: pytz>=2020.1 in /usr/local/lib/python3.10/dist-packages (from pandas) (2023.4)\n",
            "Requirement already satisfied: tzdata>=2022.1 in /usr/local/lib/python3.10/dist-packages (from pandas) (2024.1)\n",
            "Requirement already satisfied: numpy>=1.21.0 in /usr/local/lib/python3.10/dist-packages (from pandas) (1.25.2)\n",
            "Requirement already satisfied: contourpy>=1.0.1 in /usr/local/lib/python3.10/dist-packages (from matplotlib) (1.2.1)\n",
            "Requirement already satisfied: cycler>=0.10 in /usr/local/lib/python3.10/dist-packages (from matplotlib) (0.12.1)\n",
            "Requirement already satisfied: fonttools>=4.22.0 in /usr/local/lib/python3.10/dist-packages (from matplotlib) (4.50.0)\n",
            "Requirement already satisfied: kiwisolver>=1.0.1 in /usr/local/lib/python3.10/dist-packages (from matplotlib) (1.4.5)\n",
            "Requirement already satisfied: packaging>=20.0 in /usr/local/lib/python3.10/dist-packages (from matplotlib) (24.0)\n",
            "Requirement already satisfied: pillow>=6.2.0 in /usr/local/lib/python3.10/dist-packages (from matplotlib) (9.4.0)\n",
            "Requirement already satisfied: pyparsing>=2.3.1 in /usr/local/lib/python3.10/dist-packages (from matplotlib) (3.1.2)\n",
            "Requirement already satisfied: numba in /usr/local/lib/python3.10/dist-packages (from ssqueezepy) (0.58.1)\n",
            "Requirement already satisfied: scipy in /usr/local/lib/python3.10/dist-packages (from ssqueezepy) (1.11.4)\n",
            "Requirement already satisfied: six>=1.5 in /usr/local/lib/python3.10/dist-packages (from python-dateutil>=2.8.2->pandas) (1.16.0)\n",
            "Requirement already satisfied: llvmlite<0.42,>=0.41.0dev0 in /usr/local/lib/python3.10/dist-packages (from numba->ssqueezepy) (0.41.1)\n",
            "Installing collected packages: ssqueezepy\n",
            "Successfully installed ssqueezepy-0.6.5\n",
            "Requirement already satisfied: numpy in /usr/local/lib/python3.10/dist-packages (1.25.2)\n",
            "Requirement already satisfied: ssqueezepy in /usr/local/lib/python3.10/dist-packages (0.6.5)\n",
            "Requirement already satisfied: numpy in /usr/local/lib/python3.10/dist-packages (from ssqueezepy) (1.25.2)\n",
            "Requirement already satisfied: numba in /usr/local/lib/python3.10/dist-packages (from ssqueezepy) (0.58.1)\n",
            "Requirement already satisfied: scipy in /usr/local/lib/python3.10/dist-packages (from ssqueezepy) (1.11.4)\n",
            "Requirement already satisfied: llvmlite<0.42,>=0.41.0dev0 in /usr/local/lib/python3.10/dist-packages (from numba->ssqueezepy) (0.41.1)\n"
          ]
        }
      ]
    }
  ]
}